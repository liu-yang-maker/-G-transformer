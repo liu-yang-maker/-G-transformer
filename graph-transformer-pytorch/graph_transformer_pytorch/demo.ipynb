{
 "cells": [
  {
   "cell_type": "code",
   "execution_count": 1,
   "metadata": {},
   "outputs": [],
   "source": [
    "import torch\n",
    "from graph_transformer_pytorch import GraphTransformer\n",
    "\n",
    "model = GraphTransformer(\n",
    "    dim = 256,\n",
    "    depth = 6,\n",
    "    edge_dim = 512,             # optional - if left out, edge dimensions is assumed to be the same as the node dimensions above\n",
    "    with_feedforwards = True,   # whether to add a feedforward after each attention layer, suggested by literature to be needed\n",
    "    gated_residual = True,      # to use the gated residual to prevent over-smoothing\n",
    "    rel_pos_emb = True          # set to True if the nodes are ordered, default to False\n",
    ")\n",
    "\n",
    "nodes = torch.randn(1, 128, 256)\n",
    "edges = torch.randn(1, 128, 128, 512)\n",
    "mask = torch.ones(1, 128).bool()\n",
    "\n",
    "nodes, edges = model(nodes, edges, mask = mask)"
   ]
  },
  {
   "cell_type": "code",
   "execution_count": 2,
   "metadata": {},
   "outputs": [
    {
     "data": {
      "text/plain": [
       "torch.Size([1, 128, 256])"
      ]
     },
     "execution_count": 2,
     "metadata": {},
     "output_type": "execute_result"
    }
   ],
   "source": [
    "nodes.shape # (1, 128, 256) - project to R^3 for coordinates"
   ]
  },
  {
   "cell_type": "code",
   "execution_count": null,
   "metadata": {},
   "outputs": [],
   "source": []
  }
 ],
 "metadata": {
  "kernelspec": {
   "display_name": "ptrllm",
   "language": "python",
   "name": "python3"
  },
  "language_info": {
   "codemirror_mode": {
    "name": "ipython",
    "version": 3
   },
   "file_extension": ".py",
   "mimetype": "text/x-python",
   "name": "python",
   "nbconvert_exporter": "python",
   "pygments_lexer": "ipython3",
   "version": "3.9.19"
  }
 },
 "nbformat": 4,
 "nbformat_minor": 2
}
